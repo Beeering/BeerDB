{
 "cells": [
  {
   "cell_type": "markdown",
   "metadata": {},
   "source": [
    "## Save Dataframe to MySQL"
   ]
  },
  {
   "cell_type": "code",
   "execution_count": 1,
   "metadata": {
    "collapsed": true
   },
   "outputs": [],
   "source": [
    "import numpy as np\n",
    "import pandas as pd"
   ]
  },
  {
   "cell_type": "code",
   "execution_count": 2,
   "metadata": {
    "collapsed": false,
    "scrolled": false
   },
   "outputs": [
    {
     "data": {
      "text/html": [
       "<div>\n",
       "<table border=\"1\" class=\"dataframe\">\n",
       "  <thead>\n",
       "    <tr style=\"text-align: right;\">\n",
       "      <th></th>\n",
       "      <th>beer_name</th>\n",
       "      <th>beer_abv</th>\n",
       "      <th>beer_ibu</th>\n",
       "      <th>beer_srm</th>\n",
       "      <th>beer_kcal</th>\n",
       "      <th>national_id</th>\n",
       "      <th>category_id</th>\n",
       "      <th>brewery_id</th>\n",
       "      <th>description</th>\n",
       "      <th>ounces</th>\n",
       "    </tr>\n",
       "  </thead>\n",
       "  <tbody>\n",
       "    <tr>\n",
       "      <th>0</th>\n",
       "      <td>Pub Beer</td>\n",
       "      <td>0.050</td>\n",
       "      <td>NaN</td>\n",
       "      <td>NaN</td>\n",
       "      <td>NaN</td>\n",
       "      <td>america</td>\n",
       "      <td>American Pale Lager</td>\n",
       "      <td>408</td>\n",
       "      <td>NaN</td>\n",
       "      <td>12.0</td>\n",
       "    </tr>\n",
       "    <tr>\n",
       "      <th>1</th>\n",
       "      <td>Devil's Cup</td>\n",
       "      <td>0.066</td>\n",
       "      <td>NaN</td>\n",
       "      <td>NaN</td>\n",
       "      <td>NaN</td>\n",
       "      <td>america</td>\n",
       "      <td>American Pale Ale (APA)</td>\n",
       "      <td>177</td>\n",
       "      <td>NaN</td>\n",
       "      <td>12.0</td>\n",
       "    </tr>\n",
       "    <tr>\n",
       "      <th>2</th>\n",
       "      <td>Rise of the Phoenix</td>\n",
       "      <td>0.071</td>\n",
       "      <td>NaN</td>\n",
       "      <td>NaN</td>\n",
       "      <td>NaN</td>\n",
       "      <td>america</td>\n",
       "      <td>American IPA</td>\n",
       "      <td>177</td>\n",
       "      <td>NaN</td>\n",
       "      <td>12.0</td>\n",
       "    </tr>\n",
       "    <tr>\n",
       "      <th>3</th>\n",
       "      <td>Sinister</td>\n",
       "      <td>0.090</td>\n",
       "      <td>NaN</td>\n",
       "      <td>NaN</td>\n",
       "      <td>NaN</td>\n",
       "      <td>america</td>\n",
       "      <td>American Double / Imperial IPA</td>\n",
       "      <td>177</td>\n",
       "      <td>NaN</td>\n",
       "      <td>12.0</td>\n",
       "    </tr>\n",
       "    <tr>\n",
       "      <th>4</th>\n",
       "      <td>Sex and Candy</td>\n",
       "      <td>0.075</td>\n",
       "      <td>NaN</td>\n",
       "      <td>NaN</td>\n",
       "      <td>NaN</td>\n",
       "      <td>america</td>\n",
       "      <td>American IPA</td>\n",
       "      <td>177</td>\n",
       "      <td>NaN</td>\n",
       "      <td>12.0</td>\n",
       "    </tr>\n",
       "  </tbody>\n",
       "</table>\n",
       "</div>"
      ],
      "text/plain": [
       "             beer_name  beer_abv  beer_ibu  beer_srm  beer_kcal national_id  \\\n",
       "0             Pub Beer     0.050       NaN       NaN        NaN     america   \n",
       "1          Devil's Cup     0.066       NaN       NaN        NaN     america   \n",
       "2  Rise of the Phoenix     0.071       NaN       NaN        NaN     america   \n",
       "3             Sinister     0.090       NaN       NaN        NaN     america   \n",
       "4        Sex and Candy     0.075       NaN       NaN        NaN     america   \n",
       "\n",
       "                      category_id  brewery_id  description  ounces  \n",
       "0             American Pale Lager         408          NaN    12.0  \n",
       "1         American Pale Ale (APA)         177          NaN    12.0  \n",
       "2                    American IPA         177          NaN    12.0  \n",
       "3  American Double / Imperial IPA         177          NaN    12.0  \n",
       "4                    American IPA         177          NaN    12.0  "
      ]
     },
     "execution_count": 2,
     "metadata": {},
     "output_type": "execute_result"
    }
   ],
   "source": [
    "crf_beer = pd.read_csv('../BeerDB/crf_beer_us.csv')\n",
    "crf_beer.head()"
   ]
  },
  {
   "cell_type": "code",
   "execution_count": 3,
   "metadata": {
    "collapsed": false
   },
   "outputs": [
    {
     "name": "stdout",
     "output_type": "stream",
     "text": [
      "<class 'pandas.core.frame.DataFrame'>\n",
      "RangeIndex: 2387 entries, 0 to 2386\n",
      "Data columns (total 10 columns):\n",
      "beer_name      2387 non-null object\n",
      "beer_abv       2326 non-null float64\n",
      "beer_ibu       1392 non-null float64\n",
      "beer_srm       0 non-null float64\n",
      "beer_kcal      0 non-null float64\n",
      "national_id    2387 non-null object\n",
      "category_id    2383 non-null object\n",
      "brewery_id     2387 non-null int64\n",
      "description    0 non-null float64\n",
      "ounces         2387 non-null float64\n",
      "dtypes: float64(6), int64(1), object(3)\n",
      "memory usage: 186.6+ KB\n"
     ]
    }
   ],
   "source": [
    "crf_beer.info()"
   ]
  },
  {
   "cell_type": "code",
   "execution_count": 4,
   "metadata": {
    "collapsed": true
   },
   "outputs": [],
   "source": [
    "from db_util import save_db"
   ]
  },
  {
   "cell_type": "code",
   "execution_count": 5,
   "metadata": {
    "collapsed": false
   },
   "outputs": [
    {
     "name": "stdout",
     "output_type": "stream",
     "text": [
      "Saved successfully!!\n"
     ]
    }
   ],
   "source": [
    "save_db(df=crf_beer, table='beer')"
   ]
  }
 ],
 "metadata": {
  "kernelspec": {
   "display_name": "Python 3",
   "language": "python",
   "name": "python3"
  },
  "language_info": {
   "codemirror_mode": {
    "name": "ipython",
    "version": 3
   },
   "file_extension": ".py",
   "mimetype": "text/x-python",
   "name": "python",
   "nbconvert_exporter": "python",
   "pygments_lexer": "ipython3",
   "version": "3.5.1"
  }
 },
 "nbformat": 4,
 "nbformat_minor": 2
}
